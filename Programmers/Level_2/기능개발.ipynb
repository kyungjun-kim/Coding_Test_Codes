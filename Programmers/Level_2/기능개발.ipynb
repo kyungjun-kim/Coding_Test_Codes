{
 "cells": [
  {
   "cell_type": "code",
   "execution_count": 1,
   "metadata": {},
   "outputs": [],
   "source": [
    "import math\n",
    "def solution(progresses, speeds):\n",
    "    answer,result = [], []\n",
    "    d,num = 1,0\n",
    "    for i,j in enumerate(progresses) :\n",
    "        answer.append(math.ceil((100-j) / speeds[i]))\n",
    "        if num < math.ceil((100-j) / speeds[i]) :\n",
    "            num = math.ceil((100-j) / speeds[i])\n",
    "            result.append(d)\n",
    "            d = 1\n",
    "        else :\n",
    "            d += 1\n",
    "    result.append(d)\n",
    "    return result[1:]"
   ]
  }
 ],
 "metadata": {
  "kernelspec": {
   "display_name": "Python 3.8.8 ('base')",
   "language": "python",
   "name": "python3"
  },
  "language_info": {
   "codemirror_mode": {
    "name": "ipython",
    "version": 3
   },
   "file_extension": ".py",
   "mimetype": "text/x-python",
   "name": "python",
   "nbconvert_exporter": "python",
   "pygments_lexer": "ipython3",
   "version": "3.8.8"
  },
  "orig_nbformat": 4,
  "vscode": {
   "interpreter": {
    "hash": "4983dea7fb74a7657ed0a30d17b95d761904bf85c80aa3fbbb72a0182d34178c"
   }
  }
 },
 "nbformat": 4,
 "nbformat_minor": 2
}
