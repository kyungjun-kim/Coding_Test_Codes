{
 "cells": [
  {
   "cell_type": "code",
   "execution_count": null,
   "metadata": {},
   "outputs": [],
   "source": [
    "## 문제링크 : https://school.programmers.co.kr/learn/courses/30/lessons/49994\n",
    "\n",
    "def solution(dirs):\n",
    "    n,d = [0,0],[]\n",
    "    for i in dirs :\n",
    "        tmp = n.copy()\n",
    "        if i == 'U' :\n",
    "            n[0] += 1\n",
    "        elif i == 'R' :\n",
    "            n[1] += 1\n",
    "        elif i == 'L' :\n",
    "            n[1] -= 1\n",
    "        else :\n",
    "            n[0] -= 1\n",
    "        if abs(n[0]) > 5 or abs(n[1]) > 5:\n",
    "            n = tmp\n",
    "            continue\n",
    "        a = ''.join(list(map(lambda x : str(x), tmp)))\n",
    "        b = ''.join(list(map(lambda x : str(x), n)))\n",
    "        if a+b in d or b+a in d :\n",
    "            continue\n",
    "        d.append(a+b)\n",
    "    return len(d)"
   ]
  }
 ],
 "metadata": {
  "kernelspec": {
   "display_name": "base",
   "language": "python",
   "name": "python3"
  },
  "language_info": {
   "codemirror_mode": {
    "name": "ipython",
    "version": 3
   },
   "file_extension": ".py",
   "mimetype": "text/x-python",
   "name": "python",
   "nbconvert_exporter": "python",
   "pygments_lexer": "ipython3",
   "version": "3.8.8 (default, Apr 13 2021, 15:08:03) [MSC v.1916 64 bit (AMD64)]"
  },
  "orig_nbformat": 4,
  "vscode": {
   "interpreter": {
    "hash": "4983dea7fb74a7657ed0a30d17b95d761904bf85c80aa3fbbb72a0182d34178c"
   }
  }
 },
 "nbformat": 4,
 "nbformat_minor": 2
}
