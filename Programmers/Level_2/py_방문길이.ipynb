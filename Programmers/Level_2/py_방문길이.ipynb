{
 "cells": [
  {
   "cell_type": "code",
   "execution_count": null,
   "metadata": {},
   "outputs": [],
   "source": [
    "## 문제링크 : https://school.programmers.co.kr/learn/courses/30/lessons/49994\n",
    "\n",
    "def solution(dirs):\n",
    "    n,d = [0,0],[]\n",
    "    for i in dirs :\n",
    "        tmp = n.copy()\n",
    "        if i == 'U' :\n",
    "            n[0] += 1\n",
    "        elif i == 'R' :\n",
    "            n[1] += 1\n",
    "        elif i == 'L' :\n",
    "            n[1] -= 1\n",
    "        else :\n",
    "            n[0] -= 1\n",
    "        if abs(n[0]) > 5 or abs(n[1]) > 5:\n",
    "            n = tmp\n",
    "            continue\n",
    "        a = ''.join(list(map(lambda x : str(x), tmp)))\n",
    "        b = ''.join(list(map(lambda x : str(x), n)))\n",
    "        if a+b in d or b+a in d :\n",
    "            continue\n",
    "        d.append(a+b)\n",
    "    return len(d)"
   ]
  }
 ],
 "metadata": {
  "language_info": {
   "name": "python"
  },
  "orig_nbformat": 4
 },
 "nbformat": 4,
 "nbformat_minor": 2
}
