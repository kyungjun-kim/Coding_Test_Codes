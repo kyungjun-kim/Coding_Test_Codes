{
 "cells": [
  {
   "cell_type": "code",
   "execution_count": null,
   "metadata": {},
   "outputs": [],
   "source": [
    "# 문제 링크 : https://leetcode.com/problems/final-value-of-variable-after-performing-operations/\n",
    "\n",
    "class Solution:\n",
    "    def finalValueAfterOperations(self, operations: List[str]) -> int:\n",
    "        d = {\"--X\" : -1, \"X--\" : -1, \"++X\" : 1, \"X++\" : 1}\n",
    "        return sum(list(map(lambda x : d.get(x), operations)))"
   ]
  }
 ],
 "metadata": {
  "language_info": {
   "name": "python"
  },
  "orig_nbformat": 4
 },
 "nbformat": 4,
 "nbformat_minor": 2
}
