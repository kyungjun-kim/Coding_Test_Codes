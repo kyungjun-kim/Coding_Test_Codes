{
 "cells": [
  {
   "cell_type": "code",
   "execution_count": 1,
   "metadata": {},
   "outputs": [],
   "source": [
    "#!pip install pandas\n",
    "#!pip install sklearn\n",
    "#%pip install scikit-learn\n",
    "import pandas as pd\n",
    "import numpy as np\n",
    "from sklearn.preprocessing import OrdinalEncoder, OneHotEncoder\n"
   ]
  },
  {
   "cell_type": "code",
   "execution_count": 2,
   "metadata": {},
   "outputs": [],
   "source": [
    "# 데이터 불러오기\n",
    "train = pd.read_csv(\"data/train.csv\")\n",
    "job_tags = pd.read_csv(\"data/job_tags.csv\")\n",
    "user_tags = pd.read_csv(\"data/user_tags.csv\")\n",
    "tags = pd.read_csv(\"data/tags.csv\")\n",
    "job_companies = pd.read_csv(\"data/job_companies.csv\")\n",
    "test = pd.read_csv(\"data/test_job.csv\")\n",
    "\n",
    "# 존재하는 컬럼\n",
    "#userID, jobID, applied, tagID, keyword, companyID, companySize"
   ]
  },
  {
   "cell_type": "code",
   "execution_count": 3,
   "metadata": {},
   "outputs": [],
   "source": [
    "df = pd.concat([train,test])\n",
    "\n",
    "#train = df.iloc[:6000]"
   ]
  },
  {
   "cell_type": "code",
   "execution_count": 4,
   "metadata": {},
   "outputs": [],
   "source": [
    "# 유저의 중복된 태그 제거\n",
    "user_tags = user_tags.drop_duplicates()\n",
    "\n",
    "#job_tags['tagID'] = job_tags['tagID'].apply(lambda x : dict(tags.values)[x])\n",
    "job_tags = pd.merge(job_tags,job_companies)\n",
    "job_tags = pd.merge(job_tags, tags).drop([\"tagID\"], axis=1)\n",
    "\n",
    "#user_tags['tagID'] = user_tags['tagID'].apply(lambda x : dict(tags.values)[x])\n",
    "user_tags = pd.merge(user_tags, tags).drop([\"tagID\"], axis=1)"
   ]
  },
  {
   "cell_type": "code",
   "execution_count": 5,
   "metadata": {},
   "outputs": [],
   "source": [
    "# train 데이터에 유저당 태그 개수 데이터 추가\n",
    "df = pd.merge(df, user_tags.groupby(\"userID\").count().reset_index().rename(columns = {\"keyword\" : \"keyword_cnt\"}))\n",
    "\n",
    "\n",
    "# train데이터에 job_companies 데이터 병합\n",
    "df = pd.merge(df,job_companies)"
   ]
  },
  {
   "cell_type": "code",
   "execution_count": 6,
   "metadata": {},
   "outputs": [],
   "source": [
    "# OneHotEncoder 객체 생성\n",
    "encoder = OneHotEncoder()\n",
    "\n",
    "# 범주형 변수 선택 -> 태그는 고민\n",
    "categories = df[['companySize']]\n",
    "\n",
    "# 인코딩 수행\n",
    "encoded_categories = encoder.fit_transform(categories)\n",
    "\n",
    "# df로 변환\n",
    "encoded_data = pd.DataFrame(encoded_categories.toarray(), columns=encoder.get_feature_names_out(categories.columns))\n",
    "\n",
    "\n",
    "\n",
    "# train 데이터에 통합\n",
    "df = pd.concat([df,encoded_data.astype(int)], axis=1)"
   ]
  },
  {
   "cell_type": "code",
   "execution_count": 7,
   "metadata": {},
   "outputs": [],
   "source": [
    "og_df = df.copy()"
   ]
  },
  {
   "cell_type": "code",
   "execution_count": 8,
   "metadata": {},
   "outputs": [],
   "source": [
    "tmp_user = pd.get_dummies(user_tags,columns = [\"keyword\"], dtype=int)\n",
    "tt = tmp_user.groupby(\"userID\").sum().reset_index()\n",
    "df = pd.merge(df, tt)"
   ]
  },
  {
   "cell_type": "code",
   "execution_count": 9,
   "metadata": {},
   "outputs": [],
   "source": [
    "#%pip install category_encoders"
   ]
  },
  {
   "cell_type": "markdown",
   "metadata": {},
   "source": [
    "## 인코딩 고민"
   ]
  },
  {
   "cell_type": "code",
   "execution_count": 10,
   "metadata": {},
   "outputs": [],
   "source": [
    "# 바이너리 인코딩\n",
    "\n",
    "import category_encoders as ce\n",
    "\n",
    "data_job = df['jobID']\n",
    "encoder_job = ce.BinaryEncoder(cols=['jobID'])\n",
    "encoded_data_job = encoder_job.fit_transform(data_job)\n",
    "\n",
    "data_com = df['companyID']\n",
    "encoder_com = ce.BinaryEncoder(cols=['companyID'])\n",
    "encoded_data_com = encoder_com.fit_transform(data_com)\n",
    "\n",
    "df = pd.concat([df, encoded_data_job, encoded_data_com], axis=1)"
   ]
  },
  {
   "cell_type": "markdown",
   "metadata": {},
   "source": [
    "## 데이터 분리 (훈련용, 테스트용)"
   ]
  },
  {
   "cell_type": "code",
   "execution_count": 11,
   "metadata": {},
   "outputs": [],
   "source": [
    "train = df.iloc[:6000]\n",
    "test = df.iloc[6000:]"
   ]
  },
  {
   "cell_type": "code",
   "execution_count": 12,
   "metadata": {},
   "outputs": [],
   "source": [
    "X = train.drop([\"userID\",'applied',\"jobID\",'companyID','companySize'], axis=1)\n",
    "X_u = train['userID']\n",
    "Y = train['applied']"
   ]
  },
  {
   "cell_type": "code",
   "execution_count": 13,
   "metadata": {},
   "outputs": [],
   "source": [
    "# 데이터 분리 (훈련용, 테스트용)\n",
    "\n",
    "from sklearn.model_selection import train_test_split\n",
    "X_train, X_test, Y_train, Y_test = train_test_split(X, Y, test_size=0.25, random_state=42)"
   ]
  },
  {
   "cell_type": "code",
   "execution_count": 14,
   "metadata": {},
   "outputs": [],
   "source": [
    "# 데이터 정규화\n",
    "\n",
    "from sklearn.preprocessing import StandardScaler\n",
    "\n",
    "scaler = StandardScaler()\n",
    "\n",
    "X_train = scaler.fit_transform(X_train)\n",
    "X_test = scaler.fit_transform(X_test)"
   ]
  },
  {
   "cell_type": "code",
   "execution_count": null,
   "metadata": {},
   "outputs": [],
   "source": [
    "from sklearn.linear_model import LogisticRegression\n",
    "\n",
    "model = LogisticRegression(random_state = 42)\n",
    "model.fit(X_train, Y_train)"
   ]
  },
  {
   "cell_type": "code",
   "execution_count": 70,
   "metadata": {},
   "outputs": [
    {
     "data": {
      "text/plain": [
       "0.8577777777777778"
      ]
     },
     "execution_count": 70,
     "metadata": {},
     "output_type": "execute_result"
    }
   ],
   "source": [
    "model.score(X_train, Y_train)\n",
    "\n",
    "#1차\n",
    "0.8577777777777778\n"
   ]
  },
  {
   "cell_type": "code",
   "execution_count": 71,
   "metadata": {},
   "outputs": [
    {
     "data": {
      "text/plain": [
       "0.8753333333333333"
      ]
     },
     "execution_count": 71,
     "metadata": {},
     "output_type": "execute_result"
    }
   ],
   "source": [
    "model.score(X_test, Y_test)\n",
    "\n",
    "# 1차\n",
    "0.8753333333333333"
   ]
  },
  {
   "cell_type": "markdown",
   "metadata": {},
   "source": [
    "## 테스트셋 적용"
   ]
  },
  {
   "cell_type": "code",
   "execution_count": 72,
   "metadata": {},
   "outputs": [],
   "source": [
    "x = test.drop([\"userID\",\"jobID\",'companyID','companySize','applied'], axis=1)\n",
    "x_u = test['userID']"
   ]
  },
  {
   "cell_type": "code",
   "execution_count": 73,
   "metadata": {},
   "outputs": [],
   "source": [
    "scaler = StandardScaler()\n",
    "\n",
    "x = scaler.fit_transform(x)"
   ]
  },
  {
   "cell_type": "code",
   "execution_count": 74,
   "metadata": {},
   "outputs": [
    {
     "data": {
      "text/plain": [
       "array([0., 0., 0., ..., 0., 0., 0.])"
      ]
     },
     "execution_count": 74,
     "metadata": {},
     "output_type": "execute_result"
    }
   ],
   "source": [
    "model.predict(x)"
   ]
  },
  {
   "cell_type": "code",
   "execution_count": 53,
   "metadata": {},
   "outputs": [],
   "source": [
    "pd.DataFrame(model.predict(x),columns=['applied']).to_csv(\"12.csv\", index=False)"
   ]
  },
  {
   "cell_type": "markdown",
   "metadata": {},
   "source": [
    "## 트리 모델"
   ]
  },
  {
   "cell_type": "code",
   "execution_count": 76,
   "metadata": {},
   "outputs": [],
   "source": [
    "from sklearn.tree import DecisionTreeClassifier\n",
    "from sklearn.metrics import accuracy_score"
   ]
  },
  {
   "cell_type": "code",
   "execution_count": 95,
   "metadata": {},
   "outputs": [
    {
     "name": "stdout",
     "output_type": "stream",
     "text": [
      "depth : 1\n",
      "0.8533333333333334\n",
      "0.8753333333333333\n",
      "depth : 2\n",
      "0.8553333333333333\n",
      "0.8773333333333333\n",
      "depth : 3\n",
      "0.8557777777777777\n",
      "0.8773333333333333\n",
      "depth : 4\n",
      "0.8564444444444445\n",
      "0.8793333333333333\n",
      "depth : 5\n",
      "0.8573333333333333\n",
      "0.8773333333333333\n",
      "depth : 6\n",
      "0.86\n",
      "0.8753333333333333\n",
      "depth : 7\n",
      "0.8624444444444445\n",
      "0.8773333333333333\n",
      "depth : 8\n",
      "0.8648888888888889\n",
      "0.872\n",
      "depth : 9\n",
      "0.8675555555555555\n",
      "0.872\n",
      "depth : 10\n",
      "0.8722222222222222\n",
      "0.8633333333333333\n"
     ]
    }
   ],
   "source": [
    "for i in range(1,11) :\n",
    "    print(\"depth : {}\".format(i))\n",
    "    clf = DecisionTreeClassifier(random_state = 42, max_depth = i)\n",
    "    clf.fit(X_train, Y_train)\n",
    "    print(clf.score(X_train, Y_train))\n",
    "    pred = clf.predict(X_test)\n",
    "    print(accuracy_score(Y_test, pred))"
   ]
  },
  {
   "cell_type": "code",
   "execution_count": 89,
   "metadata": {},
   "outputs": [],
   "source": [
    "result = pd.DataFrame(clf.predict(x).astype(int) ,columns=['applied'])"
   ]
  },
  {
   "cell_type": "code",
   "execution_count": 91,
   "metadata": {},
   "outputs": [],
   "source": [
    "result.to_csv(\"test_tree_2.csv\", index=False)"
   ]
  },
  {
   "cell_type": "markdown",
   "metadata": {},
   "source": [
    "## 오차행렬"
   ]
  },
  {
   "cell_type": "code",
   "execution_count": 104,
   "metadata": {},
   "outputs": [
    {
     "name": "stdout",
     "output_type": "stream",
     "text": [
      "[[1299   15]\n",
      " [ 173   13]]\n"
     ]
    }
   ],
   "source": [
    "from sklearn.metrics import confusion_matrix\n",
    "\n",
    "pred_logreg = model.predict(X_test) \n",
    "\n",
    "confusion = confusion_matrix(Y_test, pred_logreg)\n",
    "\n",
    "print(confusion)"
   ]
  },
  {
   "cell_type": "code",
   "execution_count": 108,
   "metadata": {},
   "outputs": [],
   "source": [
    "#%pip install mglearn"
   ]
  },
  {
   "cell_type": "code",
   "execution_count": 109,
   "metadata": {},
   "outputs": [
    {
     "name": "stderr",
     "output_type": "stream",
     "text": [
      "findfont: Font family 'AppleGothic' not found.\n",
      "findfont: Font family 'AppleGothic' not found.\n",
      "findfont: Font family 'AppleGothic' not found.\n",
      "findfont: Font family 'AppleGothic' not found.\n",
      "findfont: Font family 'AppleGothic' not found.\n",
      "findfont: Font family 'AppleGothic' not found.\n",
      "findfont: Font family 'AppleGothic' not found.\n",
      "findfont: Font family 'AppleGothic' not found.\n",
      "findfont: Font family 'AppleGothic' not found.\n",
      "findfont: Font family 'AppleGothic' not found.\n",
      "findfont: Font family 'AppleGothic' not found.\n",
      "findfont: Font family 'AppleGothic' not found.\n",
      "findfont: Font family 'AppleGothic' not found.\n",
      "findfont: Font family 'AppleGothic' not found.\n",
      "findfont: Font family 'AppleGothic' not found.\n",
      "findfont: Font family 'AppleGothic' not found.\n",
      "findfont: Font family 'AppleGothic' not found.\n",
      "findfont: Font family 'AppleGothic' not found.\n",
      "findfont: Font family 'AppleGothic' not found.\n",
      "findfont: Font family 'AppleGothic' not found.\n",
      "findfont: Font family 'AppleGothic' not found.\n",
      "findfont: Font family 'AppleGothic' not found.\n",
      "findfont: Font family 'AppleGothic' not found.\n",
      "findfont: Font family 'AppleGothic' not found.\n",
      "findfont: Font family 'AppleGothic' not found.\n",
      "findfont: Font family 'AppleGothic' not found.\n",
      "findfont: Font family 'AppleGothic' not found.\n",
      "findfont: Font family 'AppleGothic' not found.\n"
     ]
    },
    {
     "data": {
      "image/png": "[encoded data removed]",
      "text/plain": [
       "<Figure size 800x800 with 1 Axes>"
      ]
     },
     "metadata": {},
     "output_type": "display_data"
    }
   ],
   "source": [
    "import mglearn\n",
    "import matplotlib.pyplot as plt\n",
    "import matplotlib\n",
    "\n",
    "matplotlib.rc(\"font\", family = \"AppleGothic\")\n",
    "\n",
    "plt.rcParams[\"axes.unicode_minus\"] = False\n",
    "\n",
    "mglearn.plots.plot_confusion_matrix_illustration()\n",
    "plt.show()"
   ]
  },
  {
   "cell_type": "code",
   "execution_count": null,
   "metadata": {},
   "outputs": [],
   "source": []
  }
 ],
 "metadata": {
  "kernelspec": {
   "display_name": "Python 3",
   "language": "python",
   "name": "python3"
  },
  "language_info": {
   "codemirror_mode": {
    "name": "ipython",
    "version": 3
   },
   "file_extension": ".py",
   "mimetype": "text/x-python",
   "name": "python",
   "nbconvert_exporter": "python",
   "pygments_lexer": "ipython3",
   "version": "3.11.3"
  }
 },
 "nbformat": 4,
 "nbformat_minor": 2
}
